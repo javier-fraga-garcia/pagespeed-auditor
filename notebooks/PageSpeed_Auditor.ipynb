{
  "cells": [
    {
      "cell_type": "markdown",
      "metadata": {
        "id": "view-in-github",
        "colab_type": "text"
      },
      "source": [
        "<a href=\"https://colab.research.google.com/github/javier-fraga-garcia/pagespeed-auditor/blob/main/notebooks/PageSpeed_Auditor.ipynb\" target=\"_parent\"><img src=\"https://colab.research.google.com/assets/colab-badge.svg\" alt=\"Open In Colab\"/></a>"
      ]
    },
    {
      "cell_type": "markdown",
      "metadata": {
        "id": "VzZ7Ow-oaIy1"
      },
      "source": [
        "## Auditor de Page Speed API"
      ]
    },
    {
      "cell_type": "markdown",
      "metadata": {
        "id": "Ehq4mS8TlOan"
      },
      "source": [
        "Este cuaderno pretende ser una interfaz de usuario para la realización de auditorías de velocidad de forma automatizada. El objetivo es poder llevar a cabo una gran cantidad de auditorías y que la interacción con el programa sea sencilla. Para ello se ha creado una conexión con la **API de PageSpeed Insights** que permite la realización de auditorías de los **Core Web Vitals** de forma gratuita. Solamente se necesita una clave de API válida y un archivo con las URLs que se desean auditar. En la sección de configuración del entorno se explican los parámetros que es necesario configurar y se proporciona una interfaz para ello. A partir de ahí solo es necesario seguir las instrucciones del cuaderno.\n",
        "\n",
        "Para más información, o acceso al script de consola de comandos, se puede acceder a este repositorio de [Github](https://github.com/javier-fraga-garcia/pagespeed-auditor)."
      ]
    },
    {
      "cell_type": "markdown",
      "metadata": {
        "id": "guyVyctRA-yW"
      },
      "source": [
        "### Configuración del entorno"
      ]
    },
    {
      "cell_type": "code",
      "execution_count": null,
      "metadata": {
        "cellView": "form",
        "id": "kSmYUecBBCBe"
      },
      "outputs": [],
      "source": [
        "#@markdown #### Configuración de los parámetros para llevar a cabo la auditoría\n",
        "#@markdown Se deben configurar los siguientes parámetros:\n",
        "#@markdown * `urls_file` &rarr; la ruta al archivo del que se obtendrán las URLs a auditar. Se recomienda utilizar el gestor de archivos de **Colab** para subir el archivo y acceder a él. El archivo debe contener las URLs en líneas distintas. Para ver un ejemplo puede acceder al repositorio de [Github](https://github.com/javier-fraga-garcia/pagespeed-auditor) y ver la carpeta `examples`.\n",
        "#@markdown * `domain` &rarr; la dirección dentro de la cual se quieren realizar las auditorías, por ejemplo `https://www.example.com`. El archivo con las URLs puede contener páginas que no interese auditar porque se ha obtenido mediante web scraping o de alguna fuente que ha retornado URLs que apuntan a sitios que no queremos auditar.\n",
        "#@markdown * `api_key_file` &rarr; la ruta al archivo con la clave de API para conectarse al servicio de Google PageSpeed. El archivo debe ser en formato de texto plano y solo contener la clave de API. Para ver un ejemplo puede acceder al repositorio de [Github](https://github.com/javier-fraga-garcia/pagespeed-auditor) y ver la carpeta `examples`. Para más información sobre como obtener una clave API consultar la documentación de [Google](https://developers.google.com/speed/docs/insights/v5/get-started#APIKey). \n",
        "\n",
        "#@markdown ---\n",
        "urls_file = '/content/urls.txt' #@param {type: 'string'}\n",
        "domain = 'https://quotes.toscrape.com' #@param {type: 'string'}\n",
        "api_key_file = '/content/token.txt' #@param {type: 'string'}"
      ]
    },
    {
      "cell_type": "markdown",
      "metadata": {
        "id": "Hj94qH0NAzxX"
      },
      "source": [
        "### Setup\n",
        "Ejecutar las celdas siguientes para configurar el entorno"
      ]
    },
    {
      "cell_type": "code",
      "execution_count": null,
      "metadata": {
        "id": "aOHAH3H3aOST"
      },
      "outputs": [],
      "source": [
        "%%capture\n",
        "!wget -N https://raw.githubusercontent.com/javier-fraga-garcia/pagespeed-auditor/main/utils.py\n",
        "import random\n",
        "from utils import get_urls, get_api_key, make_audits, make_parallel_audits, write_results"
      ]
    },
    {
      "cell_type": "code",
      "execution_count": null,
      "metadata": {
        "id": "HDvbuY4FA4B-"
      },
      "outputs": [],
      "source": [
        "urls = get_urls(urls_file, domain)\n",
        "api_key = get_api_key(api_key_file)"
      ]
    },
    {
      "cell_type": "markdown",
      "metadata": {
        "id": "NyH5HoMFEeQX"
      },
      "source": [
        "### PageSpeed"
      ]
    },
    {
      "cell_type": "markdown",
      "metadata": {
        "id": "IYtehlTOFnJO"
      },
      "source": [
        "#### Muestreo\n",
        "\n",
        "Desplegar esta sección en caso de querer aplicar muestreo."
      ]
    },
    {
      "cell_type": "code",
      "execution_count": null,
      "metadata": {
        "cellView": "form",
        "id": "odu9xIZXEgEC"
      },
      "outputs": [],
      "source": [
        "#@markdown Ejecutar la celda para saber el número de URLs únicas a auditar\n",
        "print(f'There are {len(urls)} unique URLs to audit')"
      ]
    },
    {
      "cell_type": "code",
      "execution_count": null,
      "metadata": {
        "cellView": "form",
        "id": "jTbgOmc7GDHf"
      },
      "outputs": [],
      "source": [
        "#@markdown Si no se desea auditar todas las urls puede indicar se puede realizar un muestreo sobre ellas para obtener un subconjunto. Indique los valores correspondientes en las siguientes variables en caso de querer aplicar esta operación y ejecute la celda.\n",
        "#@markdown * `n_sample` &rarr; el número de URLs que se desean conservar para la auditoría.\n",
        "\n",
        "#@markdown ---\n",
        "n_sample = 5 #@param {type: 'integer'}\n",
        "\n",
        "if n_sample > 0 and n_sample < len(urls):\n",
        "  urls = random.sample(urls, n_sample)\n",
        "  print(f'Generated sample of {n_sample}')\n",
        "else:\n",
        "  print('Sampling has not been applied')"
      ]
    },
    {
      "cell_type": "markdown",
      "metadata": {
        "id": "4H8RnlFY0piI"
      },
      "source": [
        "#### Strategy"
      ]
    },
    {
      "cell_type": "code",
      "execution_count": null,
      "metadata": {
        "id": "UKGS-nUx0piJ",
        "cellView": "form"
      },
      "outputs": [],
      "source": [
        "#@markdown Seleccione el dispositivo en el que desea realizar la auditoría (`mobile`, `desktop`). \n",
        "\n",
        "strategy = 'desktop' #@param ['desktop', 'mobile']\n",
        "\n",
        "#@markdown * Seleccione el nombre del archivo de resultados (no indique extensión del archivo), por ejemplo `results-mobile`. Cuando la auditoría haya terminado se generará un archivo `csv` con este nombre en el sistema de archivos de **Colab**.\n",
        "\n",
        "res_file_name = 'results_desktop2' #@param {type: 'string'}"
      ]
    },
    {
      "cell_type": "markdown",
      "metadata": {
        "id": "AG2uRjHWHc1f"
      },
      "source": [
        "#### Auditorías secuenciales"
      ]
    },
    {
      "cell_type": "code",
      "execution_count": null,
      "metadata": {
        "cellView": "form",
        "id": "hkIaC1T6IW_r"
      },
      "outputs": [],
      "source": [
        "#@markdown Ejecutar esta celda para comenzar las auditorías. Se irá generando una traza para seguir el proceso. \n",
        "\n",
        "#@markdown Al final se reportará también información sobre el tiempo de ejecución y se generará un archivo con los resultados con el nombre indicado en la sección inicial.\n",
        "%%time\n",
        "audits = make_audits(urls, api_key, strategy)\n",
        "write_results(audits, res_file_name)"
      ]
    },
    {
      "cell_type": "markdown",
      "metadata": {
        "id": "d5Md0bujPaSo"
      },
      "source": [
        "#### Auditorías multi-hilo"
      ]
    },
    {
      "cell_type": "markdown",
      "metadata": {
        "id": "AbWMycOIP6II"
      },
      "source": [
        "El código siguiente permite una paralelización de las solicitudes a la API. Esto permite mejorar los tiempos de ejecución y reducir el tiempo que se tarda en realizar las auditorías. Es importante tener en cuenta que si se realizan demasiadas peticiones puede que la API retorne un error o que se supere el límite de cuota."
      ]
    },
    {
      "cell_type": "code",
      "execution_count": null,
      "metadata": {
        "cellView": "form",
        "id": "shw_y2p7N6eA"
      },
      "outputs": [],
      "source": [
        "%%time\n",
        "#@markdown Ejecutar la siguiente celda para ejecutar las peticiones paralelizadas. \n",
        "\n",
        "#@markdown *NOTA: solo se recomienda en casos con muchas URLs a auditar y cuya ejecución se demore mucho*\n",
        "\n",
        "#@markdown Indique el número de hilos que desea\n",
        "threads = 8 #@param{type: 'slider', min:2, max:10, step:1}\n",
        "\n",
        "audits = make_parallel_audits(urls, api_key, strategy, threads)\n",
        "write_results(audits, res_file_name)"
      ]
    }
  ],
  "metadata": {
    "colab": {
      "collapsed_sections": [
        "Hj94qH0NAzxX",
        "IYtehlTOFnJO"
      ],
      "private_outputs": true,
      "provenance": [],
      "include_colab_link": true
    },
    "gpuClass": "standard",
    "kernelspec": {
      "display_name": "venv",
      "language": "python",
      "name": "python3"
    },
    "language_info": {
      "name": "python",
      "version": "3.10.0"
    },
    "vscode": {
      "interpreter": {
        "hash": "43a4e784f194a4cb239cbe4b5fc7c2d9d4cf57545a46fc49e882cf9daa5ed61d"
      }
    }
  },
  "nbformat": 4,
  "nbformat_minor": 0
}