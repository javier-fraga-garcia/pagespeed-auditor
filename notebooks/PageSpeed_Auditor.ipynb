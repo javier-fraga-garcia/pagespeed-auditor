{
  "nbformat": 4,
  "nbformat_minor": 0,
  "metadata": {
    "colab": {
      "provenance": [],
      "private_outputs": true,
      "collapsed_sections": [
        "Hj94qH0NAzxX",
        "IYtehlTOFnJO"
      ],
      "authorship_tag": "ABX9TyPDH1IcK94wLZShuwsoqL1G",
      "include_colab_link": true
    },
    "kernelspec": {
      "name": "python3",
      "display_name": "Python 3"
    },
    "language_info": {
      "name": "python"
    },
    "gpuClass": "standard"
  },
  "cells": [
    {
      "cell_type": "markdown",
      "metadata": {
        "id": "view-in-github",
        "colab_type": "text"
      },
      "source": [
        "<a href=\"https://colab.research.google.com/github/javier-fraga-garcia/pagespeed-auditor/blob/main/notebooks/PageSpeed_Auditor.ipynb\" target=\"_parent\"><img src=\"https://colab.research.google.com/assets/colab-badge.svg\" alt=\"Open In Colab\"/></a>"
      ]
    },
    {
      "cell_type": "markdown",
      "source": [
        "## Auditor de Page Speed API"
      ],
      "metadata": {
        "id": "VzZ7Ow-oaIy1"
      }
    },
    {
      "cell_type": "markdown",
      "source": [
        "Este cuaderno pretende ser una interfaz de usuario para la realización de auditorías de velocidad de forma automatizada. El objetivo es poder llevar a cabo una gran cantidad de auditorías y que la interacción con el programa sea sencilla. Para ello se ha creado una conexión con la **API de PageSpeed Insights** que permite la realización de auditorías de los **Core Web Vitals** de forma gratuita. Solamente se necesita una clave de API válida y un archivo con las URLs que se desean auditar. En la sección de configuración del entorno se explican los parámetros que es necesario configurar y se proporciona una interfaz para ello. A partir de ahí solo es necesario seguir las instrucciones del cuaderno.\n",
        "\n",
        "Para más información, o acceso al script de consola de comandos, se puede acceder a este repositorio de [Github](https://github.com/javier-fraga-garcia/pagespeed-auditor)."
      ],
      "metadata": {
        "id": "Ehq4mS8TlOan"
      }
    },
    {
      "cell_type": "markdown",
      "source": [
        "### Configuración del entorno"
      ],
      "metadata": {
        "id": "guyVyctRA-yW"
      }
    },
    {
      "cell_type": "code",
      "source": [
        "#@markdown #### Configuración de los parámetros para llevar a cabo la auditoría\n",
        "#@markdown Se deben configurar los siguientes parámetros:\n",
        "#@markdown * `urls_file` &rarr; la ruta al archivo del que se obtendrán las URLs a auditar. Se recomienda utilizar el gestor de archivos de **Colab** para subir el archivo y acceder a él. El archivo debe contener las URLs en líneas distintas. Para ver un ejemplo puede acceder al repositorio de [Github](https://github.com/javier-fraga-garcia/pagespeed-auditor) y ver la carpeta `examples`.\n",
        "#@markdown * `domain` &rarr; la dirección dentro de la cual se quieren realizar las auditorías, por ejemplo `https://www.example.com`. El archivo con las URLs puede contener páginas que no interese auditar porque se ha obtenido mediante web scraping o de alguna fuente que ha retornado URLs que apuntan a sitios que no queremos auditar.\n",
        "#@markdown * `api_key_file` &rarr; la ruta al archivo con la clave de API para conectarse al servicio de Google PageSpeed. El archivo debe ser en formato de texto plano y solo contener la clave de API. Para ver un ejemplo puede acceder al repositorio de [Github](https://github.com/javier-fraga-garcia/pagespeed-auditor) y ver la carpeta `examples`. Para más información sobre como obtener una clave API consultar la documentación de [Google](https://developers.google.com/speed/docs/insights/v5/get-started#APIKey). \n",
        "#@markdown * `res_file_name` &rarr; el nombre del archivo de resultados sin la extensión del archivo, por ejemplo `results-mobile`. Cuando la auditoría haya terminado se generará un archivo `csv` con este nombre en el sistema de archivos de **Colab**.\n",
        "#@markdown * `strategy` &rarr; el dispositivo en el que desea realizar la auditoría (`mobile`, `desktop`). \n",
        "\n",
        "#@markdown ---\n",
        "urls_file = '/content/urls.txt' #@param {type: 'string'}\n",
        "domain = 'https://www.example.com' #@param {type: 'string'}\n",
        "api_key_file = '/content/token.txt' #@param {type: 'string'}\n",
        "res_file_name = 'results' #@param {type: 'string'}\n",
        "strategy = 'desktop' #@param ['desktop', 'mobile']"
      ],
      "metadata": {
        "cellView": "form",
        "id": "kSmYUecBBCBe"
      },
      "execution_count": null,
      "outputs": []
    },
    {
      "cell_type": "markdown",
      "source": [
        "### Setup\n",
        "Ejecutar las celdas siguientes para configurar el entorno"
      ],
      "metadata": {
        "id": "Hj94qH0NAzxX"
      }
    },
    {
      "cell_type": "code",
      "source": [
        "import concurrent.futures as fs\n",
        "import requests\n",
        "import random\n",
        "import re\n",
        "import csv"
      ],
      "metadata": {
        "id": "aOHAH3H3aOST"
      },
      "execution_count": null,
      "outputs": []
    },
    {
      "cell_type": "code",
      "source": [
        "def get_urls(urls_file, domain):\n",
        "  try:\n",
        "    with open(urls_file, 'r') as f:\n",
        "      return {url.strip() for url in f.read().split('\\n') if len(url) > 0 and url.startswith(domain)}\n",
        "  except:\n",
        "    print(f'[!] File {urls_file} could not be opened')\n",
        "\n",
        "def get_api_key(api_key_file):\n",
        "  try:\n",
        "    with open(api_key_file, 'r') as f:\n",
        "      return f.read().strip()\n",
        "  except:\n",
        "    print(f'[!] File {api_key_file} could not be opened')\n",
        "\n",
        "def parse_audit(audit):\n",
        "  return {\n",
        "      'final_url': audit['finalUrl'],\n",
        "      'device': audit['configSettings']['emulatedFormFactor'],\n",
        "      'first_contentful_paint': float(re.sub('[a-zA-Z_,]', '', audit['audits']['first-contentful-paint']['displayValue']).strip()) if audit['audits']['first-contentful-paint']['displayValue'] else None,\n",
        "      'time_to_interactive': float(re.sub('[a-zA-Z_,]', '', audit['audits']['first-contentful-paint']['displayValue']).strip()) if audit['audits']['first-contentful-paint']['displayValue'] else None,\n",
        "      'largest_contentful_paint': float(re.sub('[a-zA-Z_,]', '', audit['audits']['interactive']['displayValue']).strip()) if audit['audits']['interactive']['displayValue'] else None,\n",
        "      'speed_index': float(re.sub('[a-zA-Z_,]', '', audit['audits']['speed-index']['displayValue']).strip()) if audit['audits']['speed-index']['displayValue'] else None,\n",
        "      'total_blocking_time': float(re.sub('[a-zA-Z_,]', '', audit['audits']['total-blocking-time']['displayValue']).strip()) if audit['audits']['total-blocking-time']['displayValue'] else None,\n",
        "      'dom_size': int(re.sub('[a-zA-Z_,]', '', audit['audits']['dom-size']['displayValue']).strip()) if audit['audits']['dom-size']['displayValue'] else None,\n",
        "      'performance': audit['categories']['performance']['score'] if audit['categories']['performance']['score'] else None,\n",
        "      'accessibility': audit['categories']['accessibility']['score'] if audit['categories']['accessibility']['score'] else None,\n",
        "      'best_practices': audit['categories']['best-practices']['score'] if audit['categories']['best-practices']['score'] else None,\n",
        "      'seo': audit['categories']['seo']['score'] if audit['categories']['seo']['score'] else None\n",
        "  }\n",
        "\n",
        "def make_audit(url, api_key, strategy):\n",
        "  ENDPOINT = 'https://www.googleapis.com/pagespeedonline/v5/runPagespeed?url={}&category=best-practices&category=performance&category=seo&category=accessibility&key={}'\n",
        "  params = {\n",
        "      'strategy': strategy\n",
        "  }\n",
        "  try:\n",
        "    print(f'[+] Auditing {url} with strategy {strategy}')\n",
        "    response = requests.get(ENDPOINT.format(url, api_key), params)\n",
        "    if response.status_code == 200:\n",
        "      audit = response.json()['lighthouseResult']\n",
        "      return parse_audit(audit)\n",
        "  except:\n",
        "    print(f'[!] Something went wrong with {url}')\n",
        "\n",
        "def make_audits(urls, api_key, strategy):\n",
        "  print(f'[+] Auditing {len(urls)} unique URLs\\n')\n",
        "  audits = list()\n",
        "  for i, url in enumerate(urls):\n",
        "    audit = make_audit(url, api_key, strategy)\n",
        "    audits.append(audit)\n",
        "    if (i+1) % 25 == 0:\n",
        "      print(f'\\n[-] Completed {i+1} audits\\n')\n",
        "  return audits\n",
        "\n",
        "def make_concurrent_audits(urls, api_key, strategy, max_workers=5):\n",
        "  print(f'[+] Auditing {len(urls)} unique URLs\\n')\n",
        "  with fs.ThreadPoolExecutor(max_workers=max_workers) as exec:\n",
        "    futures = [exec.submit(make_audit, url, api_key, strategy) for url in urls]\n",
        "    audits = [future.result() for future in fs.as_completed(futures)]\n",
        "  return audits\n",
        "\n",
        "def write_results(audits, file_name):\n",
        "  try:\n",
        "    with open(f'{file_name}.csv', 'w+', newline='') as f:\n",
        "      writer = csv.writer(f)\n",
        "      headers = list(audits[0].keys())\n",
        "      writer.writerow(headers)\n",
        "\n",
        "      for audit in audits:\n",
        "        res = [audit.get(key, None) for key in headers]\n",
        "        writer.writerow(res)\n",
        "      print(f'[+] Written file in {file_name}.csv\\n')\n",
        "  except:\n",
        "    print(f'Something went wrong when writing the file {file_name}')"
      ],
      "metadata": {
        "id": "3DJU2DGKo_tv"
      },
      "execution_count": null,
      "outputs": []
    },
    {
      "cell_type": "code",
      "source": [
        "urls = get_urls(urls_file, domain)\n",
        "api_key = get_api_key(api_key_file)"
      ],
      "metadata": {
        "id": "HDvbuY4FA4B-"
      },
      "execution_count": null,
      "outputs": []
    },
    {
      "cell_type": "markdown",
      "source": [
        "### PageSpeed"
      ],
      "metadata": {
        "id": "NyH5HoMFEeQX"
      }
    },
    {
      "cell_type": "markdown",
      "source": [
        "#### Muestreo\n",
        "\n",
        "Desplegar esta sección en caso de querer aplicar muestreo."
      ],
      "metadata": {
        "id": "IYtehlTOFnJO"
      }
    },
    {
      "cell_type": "code",
      "source": [
        "#@markdown Ejecutar la celda para saber el número de URLs únicas a auditar\n",
        "print(f'There are {len(urls)} unique URLs to audit')"
      ],
      "metadata": {
        "cellView": "form",
        "id": "odu9xIZXEgEC"
      },
      "execution_count": null,
      "outputs": []
    },
    {
      "cell_type": "code",
      "source": [
        "#@markdown Si no se desea auditar todas las urls puede indicar se puede realizar un muestreo sobre ellas para obtener un subconjunto. Indique los valores correspondientes en las siguientes variables en caso de querer aplicar esta operación y ejecute la celda.\n",
        "#@markdown * `seed` (opcional) &rarr; este parámetro puede definirse como un número para garantizar la reproducibilidad del resultado, es decir, que siempre que se ejecute sobre el conjunto de URLs se seleccionan las mismas. Por defecto no se aplica.\n",
        "#@markdown * `n_sample` &rarr; el número de URLs que se desean conservar para la auditoría.\n",
        "\n",
        "#@markdown ---\n",
        "seed = 42 #@param {type: 'integer'}\n",
        "n_sample = 5 #@param {type: 'integer'}\n",
        "\n",
        "if seed > 0 and n_sample > 0 and n_sample < len(urls):\n",
        "  random.seed(seed)\n",
        "  urls = random.sample(urls, n_sample)\n",
        "  print(f'Generated sample of {n_sample} with seed {seed}')\n",
        "elif n_sample > 0 and n_sample < len(urls):\n",
        "  urls = random.sample(urls, n_sample)\n",
        "  print(f'Generated sample of {n_sample}')\n",
        "else:\n",
        "  print('Sampling has not been applied')"
      ],
      "metadata": {
        "cellView": "form",
        "id": "jTbgOmc7GDHf"
      },
      "execution_count": null,
      "outputs": []
    },
    {
      "cell_type": "markdown",
      "source": [
        "#### Auditorías secuenciales"
      ],
      "metadata": {
        "id": "AG2uRjHWHc1f"
      }
    },
    {
      "cell_type": "code",
      "source": [
        "#@markdown Ejecutar esta celda para comenzar las auditorías. Se irá generando una traza para seguir el proceso. \n",
        "\n",
        "#@markdown Al final se reportará también información sobre el tiempo de ejecución y se generará un archivo con los resultados con el nombre indicado en la sección inicial.\n",
        "%%time\n",
        "audits = make_audits(urls, api_key, strategy)\n",
        "write_results(audits, res_file_name)"
      ],
      "metadata": {
        "cellView": "form",
        "id": "hkIaC1T6IW_r"
      },
      "execution_count": null,
      "outputs": []
    },
    {
      "cell_type": "markdown",
      "source": [
        "#### Auditorías multi-hilo"
      ],
      "metadata": {
        "id": "d5Md0bujPaSo"
      }
    },
    {
      "cell_type": "markdown",
      "source": [
        "El código siguiente permite una paralelización de las solicitudes a la API. Esto permite mejorar los tiempos de ejecución y reducir el tiempo que se tarda en realizar las auditorías. Es importante tener en cuenta que si se realizan demasiadas peticiones puede que la API retorne un error o que se supere el límite de cuota."
      ],
      "metadata": {
        "id": "AbWMycOIP6II"
      }
    },
    {
      "cell_type": "code",
      "source": [
        "#@markdown Ejecutar la siguiente celda para ejecutar las peticiones paralelizadas. \n",
        "\n",
        "#@markdown *NOTA: solo se recomienda en casos con muchas URLs a auditar y cuya ejecución se demore mucho*\n",
        "\n",
        "%%time\n",
        "audits = make_concurrent_audits(urls, api_key, strategy)\n",
        "write_results(audits, res_file_name)"
      ],
      "metadata": {
        "cellView": "form",
        "id": "shw_y2p7N6eA"
      },
      "execution_count": null,
      "outputs": []
    }
  ]
}